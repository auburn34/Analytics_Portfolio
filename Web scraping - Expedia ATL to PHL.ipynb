{
 "cells": [
  {
   "cell_type": "markdown",
   "id": "1423a5ff",
   "metadata": {},
   "source": [
    "# I am planning to travel to Philadelphia from Atlanta on 9/7/2023 - 9/10/2023.  I use Expedia flight search web site for checking airfare and throught a web scraper that will automate that would be a good side project.  The cells below use a selenium webdriver to scrape the search results for me and Beautifulsoup to parse the response and find tags.  I filtered out results from Spirit airlines as I don't want to fly Spirit."
   ]
  },
  {
   "cell_type": "code",
   "execution_count": 6,
   "id": "75b0cb11",
   "metadata": {},
   "outputs": [],
   "source": [
    "import pandas as pd\n",
    "import numpy as np\n",
    "#import matplotlib.pyplot as plt\n",
    "#import seaborn as sns\n",
    "#%matplotlib inline\n",
    "import time\n",
    "from selenium import webdriver\n",
    "from bs4 import BeautifulSoup"
   ]
  },
  {
   "cell_type": "markdown",
   "id": "5bcabe14",
   "metadata": {},
   "source": [
    "# You need to enable the 'Allow Remote Automation' option in Safari's Develop menu to control Safari via WebDriver.  A browser will open for 15 seconds and then close"
   ]
  },
  {
   "cell_type": "markdown",
   "id": "c57825fe",
   "metadata": {},
   "source": [
    "Use the url for searching ATL to PHL flights on 9/7-9/10 and only list Delta or American Airlines.  Set a 15 second timer to allow scraping all 25 search results."
   ]
  },
  {
   "cell_type": "code",
   "execution_count": 7,
   "id": "5331fbbf",
   "metadata": {},
   "outputs": [],
   "source": [
    "# open page that gives flight search results for ATL to PHL on 9/7/2023-9/10/2023\n",
    "url = \"https://www.expedia.com/Flights-Search?filters=%5B%7B%22preferredAirlineFilterValue%22%3A%7B%22carrierCode%22%3A%22DL%22%7D%7D%2C%7B%22preferredAirlineFilterValue%22%3A%7B%22carrierCode%22%3A%22AA%22%7D%7D%5D&leg1=from%3AAtlanta%2C%20GA%20%28ATL-Hartsfield-Jackson%20Atlanta%20Intl.%29%2Cto%3APhiladelphia%2C%20PA%20%28PHL-Philadelphia%20Intl.%29%2Cdeparture%3A9%2F7%2F2023TANYT&leg2=from%3APhiladelphia%2C%20PA%20%28PHL-Philadelphia%20Intl.%29%2Cto%3AAtlanta%2C%20GA%20%28ATL-Hartsfield-Jackson%20Atlanta%20Intl.%29%2Cdeparture%3A9%2F10%2F2023TANYT&mode=search&options=carrier%3A%2A%2Ccabinclass%3A%2Cmaxhops%3A1%2Cnopenalty%3AN&pageId=0&passengers=adults%3A1%2Cchildren%3A0%2Cinfantinlap%3AN&sortOrder=INCREASING&sortType=PRICE&trip=roundtrip\"\n",
    "#Use the Safari web driver for the Safari browser.  Use different webdriver for other browsers.\n",
    "driver = webdriver.Safari()\n",
    "#driver = webdriver.Chrome()\n",
    "#driver = webdriver.ie()\n",
    "#driver = webdriver.firefox()\n",
    "\n",
    "driver.get(url)\n",
    "#print(driver.page_source)\n",
    "time.sleep(15)\n",
    "\n",
    "soup = BeautifulSoup(driver.page_source, 'lxml')\n",
    "driver.quit()\n",
    "#print(soup)"
   ]
  },
  {
   "cell_type": "markdown",
   "id": "50963775",
   "metadata": {},
   "source": [
    "Find the cheapest flights and scrape the price, carrier and flight times"
   ]
  },
  {
   "cell_type": "code",
   "execution_count": 8,
   "id": "eb92f126",
   "metadata": {},
   "outputs": [],
   "source": [
    "price_column = soup.find_all('span', attrs={'class': 'uitk-price-a11y is-visually-hidden'})\n",
    "flight_times = soup.find_all('span', attrs={'data-test-id': 'departure-time'})\n",
    "carriersDivs = soup.find_all('div', attrs={'data-test-id': 'flight-operated'})\n",
    "#area_of_focus = soup.find('span', {'class' : 'uitk-layout-grid'})\n",
    "#print(price_column)\n",
    "#print(flight_times[0].get_text())\n",
    "#type(price_column)\n"
   ]
  },
  {
   "cell_type": "markdown",
   "id": "f3d0f184",
   "metadata": {},
   "source": [
    "Set up lists for the 3 columns and iterate through to append each value to the list."
   ]
  },
  {
   "cell_type": "code",
   "execution_count": 9,
   "id": "6fe160a9",
   "metadata": {},
   "outputs": [],
   "source": [
    "prices = []\n",
    "carriers = []\n",
    "flightTimes = []\n",
    "for div in flight_times:\n",
    "    flightTimes.append(div.get_text())\n",
    "\n",
    "for div in carriersDivs:\n",
    "    carriers.append(div.get_text())\n",
    "    \n",
    "for div in price_column:\n",
    "    prices.append(div.get_text())\n",
    "#flight_times_list = [a.GetText() for a in flight_times]\n",
    "#print(prices)"
   ]
  },
  {
   "cell_type": "markdown",
   "id": "7751c0d2",
   "metadata": {},
   "source": [
    "Convert the lists to numpy arrays and print the results"
   ]
  },
  {
   "cell_type": "code",
   "execution_count": 10,
   "id": "89ea51dd",
   "metadata": {},
   "outputs": [
    {
     "name": "stdout",
     "output_type": "stream",
     "text": [
      "   Price                                            Carrier       Flight Times\n",
      "0   $224                                  American Airlines    7:45am - 9:50am\n",
      "1   $224                                  American Airlines   12:44pm - 2:50pm\n",
      "2   $224                                  American Airlines  10:40am - 12:55pm\n",
      "3   $232                                  American Airlines   9:03am - 12:35pm\n",
      "4   $232                                  American Airlines   8:19pm - 11:54pm\n",
      "5   $232                                  American Airlines   7:03am - 10:44am\n",
      "6   $232  American Airlines • American Airlines 4576 ope...   5:24am - 10:44am\n",
      "7   $232                                  American Airlines   7:03am - 12:35pm\n",
      "8   $232                                  American Airlines    9:03am - 2:37pm\n",
      "9   $234  American Airlines • American Airlines 4467 ope...   9:00am - 12:55pm\n",
      "10  $234  American Airlines • American Airlines 4509 ope...   7:32am - 12:55pm\n",
      "11  $245                                  American Airlines   5:53am - 11:18am\n",
      "12  $245                                  American Airlines   5:53am - 12:50pm\n",
      "13  $252                                              Delta   9:50pm - 11:52pm\n",
      "14  $252                                              Delta  10:52pm - 12:55am\n",
      "15  $252                                              Delta    7:45am - 9:49am\n",
      "16  $252                                              Delta   8:30pm - 10:35pm\n",
      "17  $285                                              Delta  10:06am - 12:10pm\n",
      "18  $285                                              Delta   12:41pm - 2:45pm\n",
      "19  $285                                              Delta    2:45pm - 4:50pm\n",
      "20  $285                                              Delta    6:55pm - 9:00pm\n",
      "21  $285                                              Delta    4:20pm - 6:29pm\n",
      "22  $285                                  American Airlines    3:32pm - 5:50pm\n",
      "23  $293                                  American Airlines    3:57pm - 9:47pm\n",
      "24  $295  American Airlines • American Airlines 4330 ope...   7:28pm - 11:08pm\n"
     ]
    }
   ],
   "source": [
    "npPrices = np.asarray(prices)\n",
    "npCarriers = np.asarray(carriers)\n",
    "npFlightTimes = np.asarray(flightTimes)\n",
    "\n",
    "# append the numpy arrays to create a full dataframe\n",
    "df = pd.DataFrame(npPrices, columns = ['Price'])\n",
    "df['Carrier'] = npCarriers.tolist()\n",
    "df['Flight Times'] = npFlightTimes.tolist()\n",
    "\n",
    "print(df)\n",
    "#print(type(df))"
   ]
  }
 ],
 "metadata": {
  "kernelspec": {
   "display_name": "Python 3 (ipykernel)",
   "language": "python",
   "name": "python3"
  },
  "language_info": {
   "codemirror_mode": {
    "name": "ipython",
    "version": 3
   },
   "file_extension": ".py",
   "mimetype": "text/x-python",
   "name": "python",
   "nbconvert_exporter": "python",
   "pygments_lexer": "ipython3",
   "version": "3.9.13"
  }
 },
 "nbformat": 4,
 "nbformat_minor": 5
}
