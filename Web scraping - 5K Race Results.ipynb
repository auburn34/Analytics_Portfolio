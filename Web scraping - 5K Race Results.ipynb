{
 "cells": [
  {
   "cell_type": "markdown",
   "id": "bd137d2a",
   "metadata": {},
   "source": [
    "# This notebook 1.  Scrapes the results from a 10K race 2. Cleans up the names  3. Creates arrays from the results and converts those arrays to numPy arrays  4.  Creates a pandas dataframe to hold the full results."
   ]
  },
  {
   "cell_type": "code",
   "execution_count": 7,
   "id": "75b0cb11",
   "metadata": {},
   "outputs": [],
   "source": [
    "import pandas as pd\n",
    "import numpy as np\n",
    "import matplotlib.pyplot as plt\n",
    "import seaborn as sns\n",
    "%matplotlib inline\n",
    "\n",
    "import requests\n",
    "from bs4 import BeautifulSoup"
   ]
  },
  {
   "cell_type": "code",
   "execution_count": 8,
   "id": "5331fbbf",
   "metadata": {},
   "outputs": [],
   "source": [
    "# open page that gives race results\n",
    "url = \"http://www.hubertiming.com/results/2017GPTR10K\"\n",
    "r = requests.get(url)\n",
    "#print(r.content)"
   ]
  },
  {
   "cell_type": "code",
   "execution_count": 9,
   "id": "fe8c79de",
   "metadata": {},
   "outputs": [
    {
     "data": {
      "text/plain": [
       "bs4.BeautifulSoup"
      ]
     },
     "execution_count": 9,
     "metadata": {},
     "output_type": "execute_result"
    }
   ],
   "source": [
    "soup = BeautifulSoup(r.content, 'lxml')\n",
    "type(soup)"
   ]
  },
  {
   "cell_type": "code",
   "execution_count": 10,
   "id": "b027043d",
   "metadata": {},
   "outputs": [
    {
     "name": "stdout",
     "output_type": "stream",
     "text": [
      "<title>Race results for the 2017 Intel Great Place to Run \\ Urban Clash Games!</title>\n"
     ]
    }
   ],
   "source": [
    "# Get the title\n",
    "title = soup.title\n",
    "print(title)"
   ]
  },
  {
   "cell_type": "code",
   "execution_count": 11,
   "id": "7444714c",
   "metadata": {},
   "outputs": [],
   "source": [
    "#table = soup.find('table', id=\"individualResults\")\n",
    "#tr = table.findAll('tr', name=\"data-bib\")\n",
    "# set up array datasets for the td values in the results table\n",
    "places = []\n",
    "bibnums = []\n",
    "names = []\n",
    "genders = []\n",
    "citys = []\n",
    "states = []\n",
    "chiptimes = []\n",
    "# Loop through the trs with data-bib to get the tds with the data\n",
    "for trs in soup.select('tr[data-bib]'):\n",
    "#Get the tds for every tr and append the appropriate value to the array datasets and strip out spaces and special characters\n",
    "    tds = trs.findAll('td')\n",
    "    places.append(tds[0].text)\n",
    "    bibnums.append(tds[1].text)\n",
    "    names.append(tds[2].text.strip())\n",
    "    genders.append(tds[3].text.strip())\n",
    "    citys.append(tds[4].text.strip())\n",
    "    states.append(tds[5].text.strip())\n",
    "    chiptimes.append(tds[6].text.strip())\n",
    "\n",
    "npPlaces = np.asarray(places).astype(int)\n",
    "npBibnums = np.asarray(bibnums).astype(int)\n",
    "npNames = np.asarray(names)\n",
    "npGenders = np.asarray(genders)\n",
    "npCitys = np.asarray(citys)\n",
    "npStates = np.asarray(states)\n",
    "npChiptimes = np.asarray(chiptimes)\n",
    "#print(places) - this shows the numpy arrays are set up correctly"
   ]
  },
  {
   "cell_type": "markdown",
   "id": "f3d0f184",
   "metadata": {},
   "source": [
    "The data has been parsed, names have been cleaned and the values have been appended to the 7 dataset arrays. Plan to make this a pandas dataframe to begin using the data for model.  "
   ]
  },
  {
   "cell_type": "code",
   "execution_count": 12,
   "id": "6fe160a9",
   "metadata": {},
   "outputs": [
    {
     "name": "stdout",
     "output_type": "stream",
     "text": [
      "     place  bibnum                name gender       city state chiptime\n",
      "0        1     814        JARED WILSON      M     TIGARD    OR    36:21\n",
      "1        2     573  NATHAN A SUSTERSIC      M   PORTLAND    OR    36:42\n",
      "2        3     687      FRANCISCO MAYA      M   PORTLAND    OR    37:44\n",
      "3        4     623         PAUL MORROW      M  BEAVERTON    OR    38:34\n",
      "4        5     569     DEREK G OSBORNE      M  HILLSBORO    OR    39:21\n",
      "..     ...     ...                 ...    ...        ...   ...      ...\n",
      "572    573     273      RACHEL L VANEY      F      OTHER    OR  1:38:17\n",
      "573    574     467      ROHIT B DSOUZA      M   PORTLAND    OR  1:38:31\n",
      "574    575     471      CENITA D'SOUZA      F   PORTLAND    OR  1:38:32\n",
      "575    576     338      PRANAVI APPANA      F  HILLSBORO    OR  1:40:47\n",
      "576    577     443    LIBBY B MITCHELL      F  HILLSBORO    OR  1:41:18\n",
      "\n",
      "[577 rows x 7 columns]\n",
      "<class 'pandas.core.frame.DataFrame'>\n"
     ]
    }
   ],
   "source": [
    "# append the numpy arrays to create a full dataframe\n",
    "df = pd.DataFrame(npPlaces, columns = ['place'])\n",
    "df['bibnum'] = npBibnums.tolist()\n",
    "df['name'] = npNames.tolist()\n",
    "df['gender'] = npGenders.tolist()\n",
    "df['city'] = npCitys.tolist()\n",
    "df['state'] = npStates.tolist()\n",
    "df['chiptime'] = npChiptimes.tolist()\n",
    "print(df)\n",
    "print(type(df))"
   ]
  },
  {
   "cell_type": "markdown",
   "id": "f18065a5",
   "metadata": {},
   "source": [
    "Now the dataframe is fully created with clean data."
   ]
  },
  {
   "cell_type": "code",
   "execution_count": null,
   "id": "508d9977",
   "metadata": {},
   "outputs": [],
   "source": []
  }
 ],
 "metadata": {
  "kernelspec": {
   "display_name": "Python 3 (ipykernel)",
   "language": "python",
   "name": "python3"
  },
  "language_info": {
   "codemirror_mode": {
    "name": "ipython",
    "version": 3
   },
   "file_extension": ".py",
   "mimetype": "text/x-python",
   "name": "python",
   "nbconvert_exporter": "python",
   "pygments_lexer": "ipython3",
   "version": "3.9.13"
  }
 },
 "nbformat": 4,
 "nbformat_minor": 5
}
